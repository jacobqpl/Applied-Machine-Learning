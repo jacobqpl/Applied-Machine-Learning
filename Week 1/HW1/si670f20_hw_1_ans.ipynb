{
 "cells": [
  {
   "cell_type": "markdown",
   "metadata": {
    "colab_type": "text",
    "id": "OWTe9VS3_b11"
   },
   "source": [
    "## SI 670 Applied Machine Learning, Week 1:  A simple classification task"
   ]
  },
  {
   "cell_type": "markdown",
   "metadata": {},
   "source": [
    "For this assignment, you will be using the Breast Cancer Wisconsin (Diagnostic) Database to create a classifier that can help diagnose patients. First, read through the description of the dataset (below). Then, try out the first one or two questions, which use basic numpy to prepare the data, so you can get familiar with the various columns, etc. Then use k-NN classifiers to learn and make predictions.\n",
    "\n",
    "Each question is worth 20 points, for a total of 100 points. Correct answers and code receive full credit, but partial credit will be awarded if you have the right idea even if your final answers aren't quite right.\n",
    "\n",
    "Submit your completed notebook file to the Canvas site - IMPORTANT: please name your submitted file si670-hw1-youruniqname.ipynb and be sure to put your name at the top of your notebook file.\n",
    "\n",
    "As a reminder, the notebook code you submit must be your own work. Feel free to discuss general approaches to the homework with classmates: if you end up forming more of a team discussion on multiple questions, please include the names of the people you worked with at the top of your notebook file."
   ]
  },
  {
   "cell_type": "code",
   "execution_count": null,
   "metadata": {
    "colab": {},
    "colab_type": "code",
    "id": "K7upHGCoupou"
   },
   "outputs": [],
   "source": [
    "# import required modules and load data file\n",
    "import numpy as np\n",
    "import pandas as pd\n",
    "import matplotlib.pyplot as plt\n",
    "from sklearn.datasets import load_breast_cancer\n",
    "\n",
    "cancer = load_breast_cancer()\n",
    "\n",
    "# print(cancer.DESCR)  # print the data set description"
   ]
  },
  {
   "cell_type": "markdown",
   "metadata": {
    "colab_type": "text",
    "id": "MEGrUkGz_b11"
   },
   "source": [
    "The object returned by `load_breast_cancer()` is a scikit-learn Bunch object, which is similar to a dictionary."
   ]
  },
  {
   "cell_type": "code",
   "execution_count": null,
   "metadata": {
    "colab": {
     "base_uri": "https://localhost:8080/",
     "height": 204
    },
    "colab_type": "code",
    "executionInfo": {
     "elapsed": 379,
     "status": "ok",
     "timestamp": 1567994881209,
     "user": {
      "displayName": "Jiaqi Ma",
      "photoUrl": "https://lh3.googleusercontent.com/a-/AAuE7mDucT1ChOkYa6DBGLV_QOkCeaDrSjU4meyMhp0cLg=s64",
      "userId": "01352073874375582073"
     },
     "user_tz": 240
    },
    "id": "_Zd27xZ1_b12",
    "outputId": "e5cb010f-b513-4aaf-dc61-d9f0f61f7d23"
   },
   "outputs": [
    {
     "data": {
      "text/plain": [
       "dict_keys(['data', 'target', 'target_names', 'DESCR', 'feature_names', 'filename'])"
      ]
     },
     "execution_count": 0,
     "metadata": {},
     "output_type": "execute_result"
    }
   ],
   "source": [
    "cancer.keys()"
   ]
  },
  {
   "cell_type": "code",
   "execution_count": null,
   "metadata": {},
   "outputs": [
    {
     "data": {
      "text/plain": [
       "array(['mean radius', 'mean texture', 'mean perimeter', 'mean area',\n",
       "       'mean smoothness', 'mean compactness', 'mean concavity',\n",
       "       'mean concave points', 'mean symmetry', 'mean fractal dimension',\n",
       "       'radius error', 'texture error', 'perimeter error', 'area error',\n",
       "       'smoothness error', 'compactness error', 'concavity error',\n",
       "       'concave points error', 'symmetry error',\n",
       "       'fractal dimension error', 'worst radius', 'worst texture',\n",
       "       'worst perimeter', 'worst area', 'worst smoothness',\n",
       "       'worst compactness', 'worst concavity', 'worst concave points',\n",
       "       'worst symmetry', 'worst fractal dimension'], dtype='<U23')"
      ]
     },
     "execution_count": 0,
     "metadata": {},
     "output_type": "execute_result"
    }
   ],
   "source": [
    "cancer.feature_names"
   ]
  },
  {
   "cell_type": "markdown",
   "metadata": {},
   "source": [
    "### Question 1\n",
    "\n",
    "Scikit-learn works with lists, numpy arrays, scipy-sparse matrices, and pandas DataFrames, so converting the dataset to a DataFrame is not necessary for training this model. Using a DataFrame does however help make many things easier such as manipulating data, so let's practice creating a classifier with a pandas DataFrame. \n",
    "\n",
    "\n",
    "\n",
    "Convert the sklearn.dataset `cancer` to a DataFrame. \n",
    "\n",
    "- This function should return a `(569, 31)` DataFrame with \n",
    "\n",
    "- `columns = `\n",
    "\n",
    "    ['mean radius', 'mean texture', 'mean perimeter', 'mean area',\n",
    "    'mean smoothness', 'mean compactness', 'mean concavity',\n",
    "    'mean concave points', 'mean symmetry', 'mean fractal dimension',\n",
    "    'radius error', 'texture error', 'perimeter error', 'area error',\n",
    "    'smoothness error', 'compactness error', 'concavity error',\n",
    "    'concave points error', 'symmetry error', 'fractal dimension error',\n",
    "    'worst radius', 'worst texture', 'worst perimeter', 'worst area',\n",
    "    'worst smoothness', 'worst compactness', 'worst concavity',\n",
    "    'worst concave points', 'worst symmetry', 'worst fractal dimension',\n",
    "    'target']\n",
    "\n",
    "- `and index = `\n",
    "\n",
    "    RangeIndex(start=0, stop=569, step=1)"
   ]
  },
  {
   "cell_type": "code",
   "execution_count": null,
   "metadata": {},
   "outputs": [],
   "source": [
    "def answer_one():\n",
    "    \n",
    "    # Your code here\n",
    "    d = {}\n",
    "    for i in range(len(cancer.feature_names)):\n",
    "        d[cancer.feature_names[i]] = cancer.data[:, i]\n",
    "    d['target'] = cancer.target\n",
    "    \n",
    "    \n",
    "    return pd.DataFrame(d)\n",
    "\n",
    "\n",
    "# answer_one()"
   ]
  },
  {
   "cell_type": "markdown",
   "metadata": {},
   "source": [
    "### Question 2\n",
    "Using `train_test_split`, split the dataset into training and test sets `(X_train, X_test, y_train, and y_test)`.\n",
    "\n",
    "**Set the random number generator state to 670 using `random_state=670` to make sure your results match ours **\n",
    "\n",
    "*This function should return a tuple of length 4:* `(X_train, X_test, y_train, y_test)`*, where* \n",
    "* `X_train` *has shape* `(450, 30)`\n",
    "* `X_test` *has shape* `(119, 30)`\n",
    "* `y_train` *has shape* `(450,)`\n",
    "* `y_test` *has shape* `(119,)`"
   ]
  },
  {
   "cell_type": "code",
   "execution_count": null,
   "metadata": {},
   "outputs": [],
   "source": [
    "from sklearn.model_selection import train_test_split\n",
    "\n",
    "def answer_two():\n",
    "    df = answer_one()\n",
    "    \n",
    "    # Your code here\n",
    "    X = df[cancer.feature_names]\n",
    "    y = df['target']\n",
    "    X_train, X_test, y_train, y_test = train_test_split(X, y, train_size=450, random_state=670)\n",
    "\n",
    "    return X_train, X_test, y_train, y_test\n",
    "\n",
    "\n",
    "# answer_two()"
   ]
  },
  {
   "cell_type": "code",
   "execution_count": null,
   "metadata": {},
   "outputs": [],
   "source": [
    "df = answer_one()"
   ]
  },
  {
   "cell_type": "code",
   "execution_count": null,
   "metadata": {},
   "outputs": [],
   "source": []
  },
  {
   "cell_type": "markdown",
   "metadata": {},
   "source": [
    "### Question 3\n",
    "Using KNeighborsClassifier, fit a k-nearest neighbors (knn) classifier with `n_neighbors = 5` on `X_train`, `y_train`. Then evaluate the classifier accuracy using `score` function on `X_test` and `y_test`.\n",
    "\n",
    "*This function should return a tuple of (knn, accuracy), where*\n",
    "* `knn` is a `sklearn.neighbors.classification.KNeighborsClassifier`\n",
    "* `accuracy` is a `float` number returned by the `score` function"
   ]
  },
  {
   "cell_type": "code",
   "execution_count": null,
   "metadata": {},
   "outputs": [],
   "source": [
    "from sklearn.neighbors import KNeighborsClassifier\n",
    "\n",
    "def answer_three():\n",
    "    X_train, X_test, y_train, y_test = answer_two()\n",
    "    \n",
    "    # Your code here\n",
    "    knn = KNeighborsClassifier(n_neighbors = 5)\n",
    "    knn.fit(X_train, y_train)\n",
    "    accuracy = knn.score(X_test, y_test)\n",
    "    \n",
    "    return (knn, accuracy)\n",
    "\n",
    "\n",
    "# answer_three()"
   ]
  },
  {
   "cell_type": "markdown",
   "metadata": {},
   "source": [
    "### Question 4\n",
    "Recall in the fruits example in lab1, we found the feature scales matter. In this question, please examine the mean and standard deviation of `X_train`, and use the `sklearn.preprocessing.StandardScaler` to normalize the feature. Then train another knn (k=5) classifier and evaluate it.\n",
    "\n",
    "*This function should return a tuple of (standardized_X_train, knn, accuracy), where*\n",
    "* `standardized_X_train` is a `pandas.DataFrame` of the standardized features\n",
    "* `knn` is a `sklearn.neighbors.classification.KNeighborsClassifier`\n",
    "* `accuracy` is a `float` number returned by the `score` function"
   ]
  },
  {
   "cell_type": "code",
   "execution_count": null,
   "metadata": {},
   "outputs": [
    {
     "data": {
      "text/plain": [
       "(     mean radius  mean texture  mean perimeter  mean area  mean smoothness  \\\n",
       " 519    -0.350908     -0.594288       -0.351850  -0.426659         1.122326   \n",
       " 289    -0.745705     -0.092213       -0.780961  -0.709641        -0.661551   \n",
       " 406     0.618920     -1.016123        0.552437   0.459322        -0.111692   \n",
       " 272     2.223855      0.389229        2.336941   2.458712        -0.177788   \n",
       " 525    -1.546456     -1.419617       -1.513022  -1.215131         0.496528   \n",
       " ..           ...           ...             ...        ...              ...   \n",
       " 151    -1.647158      0.322745       -1.565312  -1.265477        -0.174975   \n",
       " 528    -0.010467     -1.403569       -0.028149  -0.136155         1.987193   \n",
       " 364    -0.164953     -0.536973       -0.228594  -0.257102        -1.207191   \n",
       " 409    -0.488228     -0.314593       -0.522000  -0.506809        -0.681239   \n",
       " 562     0.355722      2.596985        0.515087   0.218875         0.580905   \n",
       " \n",
       "      mean compactness  mean concavity  mean concave points  mean symmetry  \\\n",
       " 519          0.128677       -0.625764            -0.469629       1.086038   \n",
       " 289         -1.034057       -0.812734            -0.684249       0.699111   \n",
       " 406         -0.374948       -0.421247            -0.069371      -0.306174   \n",
       " 272          1.721257        1.655490             1.589102      -0.356800   \n",
       " 525         -0.538923       -0.791777            -0.857355      -0.512294   \n",
       " ..                ...             ...                  ...            ...   \n",
       " 151          0.483423        0.552105            -0.685554       1.454883   \n",
       " 528         -0.138325        0.159482             0.475533       0.565314   \n",
       " 364         -0.904235       -0.840255            -0.867015      -0.613545   \n",
       " 409         -0.747619       -0.710222            -0.558923       0.529153   \n",
       " 562          1.959012        2.103661             1.210253       1.114967   \n",
       " \n",
       "      mean fractal dimension  ...  worst radius  worst texture  \\\n",
       " 519                0.442286  ...     -0.337950      -0.646578   \n",
       " 289               -0.487579  ...     -0.769293       0.064666   \n",
       " 406               -0.598940  ...      0.334862      -0.995734   \n",
       " 272               -0.154888  ...      2.497768       0.394424   \n",
       " 525                1.142469  ...     -1.365124      -1.178395   \n",
       " ..                      ...  ...           ...            ...   \n",
       " 151                2.722404  ...     -1.443756       0.643360   \n",
       " 528                0.211212  ...     -0.302865      -1.674649   \n",
       " 364               -0.841151  ...     -0.280162      -0.653044   \n",
       " 409               -0.985920  ...     -0.410184       0.507577   \n",
       " 562                1.178661  ...      0.295649       2.756078   \n",
       " \n",
       "      worst perimeter  worst area  worst smoothness  worst compactness  \\\n",
       " 519        -0.371604   -0.416920          0.643121          -0.376404   \n",
       " 289        -0.798379   -0.703452         -0.918673          -1.000681   \n",
       " 406         0.291176    0.146059         -0.533693          -0.535539   \n",
       " 272         2.672069    2.642955         -0.244958           1.323915   \n",
       " 525        -1.274260   -1.022845          1.369333          -0.217890   \n",
       " ..               ...         ...               ...                ...   \n",
       " 151        -1.429613   -1.067702          1.321210           1.066948   \n",
       " 528        -0.345117   -0.366151          0.288764          -0.757212   \n",
       " 364        -0.367735   -0.348417         -0.503070          -0.564022   \n",
       " 409        -0.509398   -0.441088         -0.384951          -0.490337   \n",
       " 562         0.672119    0.088857          0.389384           3.300398   \n",
       " \n",
       "      worst concavity  worst concave points  worst symmetry  \\\n",
       " 519        -0.622100             -0.500677        0.243782   \n",
       " 289        -0.937784             -0.779889        0.556914   \n",
       " 406        -0.204234             -0.008797       -0.224319   \n",
       " 272         1.443202              1.070458       -0.136450   \n",
       " 525        -0.466166             -0.429889        0.103192   \n",
       " ..               ...                   ...             ...   \n",
       " 151         1.242514             -0.525839        0.644783   \n",
       " 528        -0.558030             -0.181599       -1.211645   \n",
       " 364        -0.649895             -0.661049       -0.283431   \n",
       " 409        -0.643770             -0.275276        0.857266   \n",
       " 562         4.219394              1.851099        1.870153   \n",
       " \n",
       "      worst fractal dimension  \n",
       " 519                 0.054929  \n",
       " 289                -0.789683  \n",
       " 406                -0.779956  \n",
       " 272                 0.217583  \n",
       " 525                 1.099480  \n",
       " ..                       ...  \n",
       " 151                 3.460934  \n",
       " 528                -0.649725  \n",
       " 364                -0.471940  \n",
       " 409                -0.842640  \n",
       " 562                 3.044842  \n",
       " \n",
       " [450 rows x 30 columns],\n",
       " KNeighborsClassifier(algorithm='auto', leaf_size=30, metric='minkowski',\n",
       "                      metric_params=None, n_jobs=None, n_neighbors=5, p=2,\n",
       "                      weights='uniform'),\n",
       " 0.957983193277311)"
      ]
     },
     "execution_count": 0,
     "metadata": {},
     "output_type": "execute_result"
    }
   ],
   "source": [
    "from sklearn.preprocessing import StandardScaler\n",
    "\n",
    "\n",
    "def answer_four(k=5):\n",
    "    X_train, X_test, y_train, y_test = answer_two()\n",
    "    \n",
    "    # Your code here\n",
    "    scaler = StandardScaler()\n",
    "\n",
    "    columns = X_train.columns\n",
    "    standardized_X_train = X_train.copy()\n",
    "    standardized_X_test = X_test.copy()\n",
    "\n",
    "    standardized_X_train[columns] = scaler.fit_transform(X_train[columns])\n",
    "    standardized_X_test[columns] = scaler.transform(X_test[columns])\n",
    "    \n",
    "    knn = KNeighborsClassifier(n_neighbors = k)\n",
    "    knn.fit(standardized_X_train, y_train)\n",
    "    accuracy = knn.score(standardized_X_test, y_test)\n",
    "\n",
    "    return (standardized_X_train, knn, accuracy)  \n",
    "\n",
    "\n",
    "answer_four()"
   ]
  },
  {
   "cell_type": "markdown",
   "metadata": {},
   "source": [
    "### Question 5\n",
    "Recall in the lecture and lab 1, we found the choice of k could affect the prediction accuracy. In this question, please train knn classifiers with `k = 1,2,...,20` and evaluate the classifiers by features normalized with `sklearn.preprocessing.StandardScaler` (similar to Question 4 with k changed). Next, please visualize how sensitive the k-NN classification accuracy is to the choice of the 'k' parameter by a scatter plot.\n",
    "\n",
    "*This function should show a scatter plot, where*\n",
    "* `x-axis` represents `k`\n",
    "* `y-axis` represents `accuracy`"
   ]
  },
  {
   "cell_type": "code",
   "execution_count": null,
   "metadata": {},
   "outputs": [
    {
     "data": {
      "image/png": "[encoded data removed]",
      "text/plain": [
       "<Figure size 432x288 with 1 Axes>"
      ]
     },
     "metadata": {
      "needs_background": "light"
     },
     "output_type": "display_data"
    }
   ],
   "source": [
    "def answer_five():\n",
    "    k_range = range(1,21)\n",
    "    accuracy_list = []\n",
    "    for k in k_range:\n",
    "        standardized_X_train, knn, accuracy = answer_four(k)\n",
    "        accuracy_list.append(accuracy)\n",
    "    plt.figure()\n",
    "    plt.xlabel('k')\n",
    "    plt.ylabel('accuracy')\n",
    "    plt.scatter(k_range, accuracy_list)\n",
    "    plt.xticks([0,5,10,15,20])\n",
    "    \n",
    "# answer_five()"
   ]
  }
 ],
 "metadata": {
  "anaconda-cloud": {},
  "colab": {
   "collapsed_sections": [],
   "name": "si670f19_lab_1_ans.ipynb",
   "provenance": [],
   "version": "0.3.2"
  },
  "kernelspec": {
   "display_name": "Python 3",
   "language": "python",
   "name": "python3"
  },
  "language_info": {
   "codemirror_mode": {
    "name": "ipython",
    "version": 3
   },
   "file_extension": ".py",
   "mimetype": "text/x-python",
   "name": "python",
   "nbconvert_exporter": "python",
   "pygments_lexer": "ipython3",
   "version": "3.8.3"
  }
 },
 "nbformat": 4,
 "nbformat_minor": 4
}
