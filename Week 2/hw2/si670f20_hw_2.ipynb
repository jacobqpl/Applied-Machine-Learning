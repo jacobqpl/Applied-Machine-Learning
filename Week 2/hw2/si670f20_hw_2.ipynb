{
 "cells": [
  {
   "cell_type": "markdown",
   "metadata": {},
   "source": [
    "# Name: Danting Yang UMID:10713088"
   ]
  },
  {
   "cell_type": "markdown",
   "metadata": {
    "colab_type": "text",
    "id": "OWTe9VS3_b11"
   },
   "source": [
    "## SI 670 Applied Machine Learning, Week 2:  Basic supervised learning concepts (Due 09/21 11:59pm)\n",
    "\n",
    "For this assignment, you will be exercising on questions related to linear regression, polynomial feature expansion, underfitting/overfitting, and cross-validation.\n",
    "\n",
    "There are six questions, for a total of 100 points. Correct answers and code receive full credit, but partial credit will be awarded if you have the right idea even if your final answers aren't quite right.\n",
    "\n",
    "Submit your completed notebook file to the Canvas site - IMPORTANT: please name your submitted file si670-hw2-youruniqname.ipynb and be sure to put your name at the top of your notebook file.\n",
    "\n",
    "As a reminder, the notebook code you submit must be your own work. Feel free to discuss general approaches to the homework with classmates: if you end up forming more of a team discussion on multiple questions, please include the names of the people you worked with at the top of your notebook file."
   ]
  },
  {
   "cell_type": "markdown",
   "metadata": {
    "colab_type": "text",
    "id": "-_pUE4abw2eQ"
   },
   "source": [
    "### Preliminary\n",
    "First, run the following block to set up the variables needed for later sections."
   ]
  },
  {
   "cell_type": "code",
   "execution_count": 5,
   "metadata": {
    "colab": {
     "base_uri": "https://localhost:8080/",
     "height": 265
    },
    "colab_type": "code",
    "executionInfo": {
     "elapsed": 486,
     "status": "ok",
     "timestamp": 1600144706300,
     "user": {
      "displayName": "Grant Schoenebeck",
      "photoUrl": "",
      "userId": "04620784957482198376"
     },
     "user_tz": 240
    },
    "id": "GgCMWqV35I6z",
    "outputId": "59e878b1-6822-41d3-bcc9-3675e89dca18"
   },
   "outputs": [
    {
     "data": {
      "image/png": "[encoded data removed]",
      "text/plain": [
       "<Figure size 432x288 with 1 Axes>"
      ]
     },
     "metadata": {
      "needs_background": "light"
     },
     "output_type": "display_data"
    }
   ],
   "source": [
    "import numpy as np\n",
    "import pandas as pd\n",
    "from sklearn.model_selection import train_test_split\n",
    "\n",
    "\n",
    "np.random.seed(0)\n",
    "n = 30\n",
    "x = np.linspace(0, 10, n) + np.random.randn(n) / 5\n",
    "y = np.sin(x) + x / 4 + np.random.randn(n) / 3\n",
    "\n",
    "\n",
    "X_train, X_test, y_train, y_test = train_test_split(x, y, random_state=0)\n",
    "\n",
    "# You can use this function to help you visualize the dataset by\n",
    "# plotting a scatterplot of the data points\n",
    "# in the training and test sets.\n",
    "def part1_scatter():\n",
    "    import matplotlib.pyplot as plt\n",
    "    %matplotlib inline\n",
    "    plt.figure()\n",
    "    plt.scatter(X_train, y_train, label='training data')\n",
    "    plt.scatter(X_test, y_test, label='test data')\n",
    "    plt.legend(loc=4);\n",
    "    \n",
    "    \n",
    "part1_scatter()"
   ]
  },
  {
   "cell_type": "markdown",
   "metadata": {
    "colab_type": "text",
    "id": "itE2L8t4w2ee"
   },
   "source": [
    "### Question 1 (20 points)\n",
    "\n",
    "Write a function that fits a polynomial LinearRegression model on the *training data* `X_train` for degrees 1, 3, 6, and 9. (Use PolynomialFeatures in sklearn.preprocessing to create the polynomial features and then fit a linear regression model) For each model, find 100 predicted values over the interval x = 0 to 10 (e.g. `np.linspace(0,10,100)`) and store this in a numpy array. The first row of this array should correspond to the output from the model trained on degree 1, the second row degree 3, the third row degree 6, and the fourth row degree 9.\n",
    "\n",
    "<img src=\"si670f18_assn2_q1.png\" style=\"width: 200px;\"/>\n",
    "\n",
    "The figure above shows the fitted models plotted on top of the original data (using `plot_one()`).\n",
    "\n",
    "<br>\n",
    "*This function should return a numpy array with shape `(4, 100)`*"
   ]
  },
  {
   "cell_type": "code",
   "execution_count": 9,
   "metadata": {},
   "outputs": [
    {
     "data": {
      "text/plain": [
       "array([[ 0.49947299,  0.51663261,  0.53379223,  0.55095185,  0.56811148,\n",
       "         0.5852711 ,  0.60243072,  0.61959034,  0.63674996,  0.65390958,\n",
       "         0.6710692 ,  0.68822883,  0.70538845,  0.72254807,  0.73970769,\n",
       "         0.75686731,  0.77402693,  0.79118655,  0.80834617,  0.8255058 ,\n",
       "         0.84266542,  0.85982504,  0.87698466,  0.89414428,  0.9113039 ,\n",
       "         0.92846352,  0.94562315,  0.96278277,  0.97994239,  0.99710201,\n",
       "         1.01426163,  1.03142125,  1.04858087,  1.06574049,  1.08290012,\n",
       "         1.10005974,  1.11721936,  1.13437898,  1.1515386 ,  1.16869822,\n",
       "         1.18585784,  1.20301747,  1.22017709,  1.23733671,  1.25449633,\n",
       "         1.27165595,  1.28881557,  1.30597519,  1.32313482,  1.34029444,\n",
       "         1.35745406,  1.37461368,  1.3917733 ,  1.40893292,  1.42609254,\n",
       "         1.44325216,  1.46041179,  1.47757141,  1.49473103,  1.51189065,\n",
       "         1.52905027,  1.54620989,  1.56336951,  1.58052914,  1.59768876,\n",
       "         1.61484838,  1.632008  ,  1.64916762,  1.66632724,  1.68348686,\n",
       "         1.70064648,  1.71780611,  1.73496573,  1.75212535,  1.76928497,\n",
       "         1.78644459,  1.80360421,  1.82076383,  1.83792346,  1.85508308,\n",
       "         1.8722427 ,  1.88940232,  1.90656194,  1.92372156,  1.94088118,\n",
       "         1.9580408 ,  1.97520043,  1.99236005,  2.00951967,  2.02667929,\n",
       "         2.04383891,  2.06099853,  2.07815815,  2.09531778,  2.1124774 ,\n",
       "         2.12963702,  2.14679664,  2.16395626,  2.18111588,  2.1982755 ],\n",
       "       [ 1.51170901,  1.4413091 ,  1.37428932,  1.31059585,  1.25017485,\n",
       "         1.19297248,  1.13893491,  1.08800829,  1.0401388 ,  0.99527259,\n",
       "         0.95335584,  0.9143347 ,  0.87815535,  0.84476393,  0.81410663,\n",
       "         0.7861296 ,  0.760779  ,  0.73800101,  0.71774178,  0.69994748,\n",
       "         0.68456427,  0.67153832,  0.66081579,  0.65234284,  0.64606565,\n",
       "         0.64193037,  0.63988316,  0.6398702 ,  0.64183764,  0.64573165,\n",
       "         0.6514984 ,  0.65908405,  0.66843475,  0.67949669,  0.69221601,\n",
       "         0.70653889,  0.72241148,  0.73977996,  0.75859049,  0.77878923,\n",
       "         0.80032234,  0.82313599,  0.84717635,  0.87238957,  0.89872182,\n",
       "         0.92611927,  0.95452808,  0.98389441,  1.01416443,  1.0452843 ,\n",
       "         1.07720019,  1.10985826,  1.14320467,  1.17718559,  1.21174719,\n",
       "         1.24683562,  1.28239705,  1.31837764,  1.35472357,  1.39138099,\n",
       "         1.42829606,  1.46541496,  1.50268384,  1.54004887,  1.57745621,\n",
       "         1.61485203,  1.6521825 ,  1.68939377,  1.72643201,  1.76324338,\n",
       "         1.79977405,  1.83597019,  1.87177795,  1.9071435 ,  1.942013  ,\n",
       "         1.97633263,  2.01004853,  2.04310689,  2.07545385,  2.10703559,\n",
       "         2.13779827,  2.16768805,  2.1966511 ,  2.22463359,  2.25158166,\n",
       "         2.2774415 ,  2.30215926,  2.32568111,  2.34795321,  2.36892173,\n",
       "         2.38853283,  2.40673267,  2.42346742,  2.43868324,  2.4523263 ,\n",
       "         2.46434276,  2.47467878,  2.48328054,  2.49009419,  2.49506589],\n",
       "       [ 0.76559896,  0.64347011,  0.56881935,  0.53395569,  0.53187029,\n",
       "         0.55620316,  0.60121069,  0.66173379,  0.73316679,  0.81142705,\n",
       "         0.89292527,  0.97453654,  1.05357206,  1.12775162,  1.19517674,\n",
       "         1.25430458,  1.30392252,  1.34312347,  1.37128188,  1.3880305 ,\n",
       "         1.3932378 ,  1.38698614,  1.36955063,  1.34137872,  1.30307049,\n",
       "         1.2553597 ,  1.19909543,  1.13522459,  1.06477504,  0.98883944,\n",
       "         0.90855982,  0.8251129 ,  0.73969605,  0.65351401,  0.56776633,\n",
       "         0.48363548,  0.40227574,  0.32480271,  0.2522836 ,  0.18572826,\n",
       "         0.12608081,  0.07421212,  0.03091287, -0.00311255, -0.02725154,\n",
       "        -0.04098799, -0.04390634, -0.03569486, -0.01614824,  0.01483046,\n",
       "         0.05722873,  0.11092406,  0.17568425,  0.25116837,  0.33692839,\n",
       "         0.43241165,  0.53696389,  0.6498331 ,  0.77017404,  0.89705349,\n",
       "         1.0294562 ,  1.16629155,  1.30640093,  1.44856585,  1.59151672,\n",
       "         1.73394237,  1.87450032,  2.01182766,  2.14455274,  2.27130757,\n",
       "         2.39074081,  2.50153167,  2.60240435,  2.69214327,  2.76960901,\n",
       "         2.83375495,  2.88364465,  2.91846988,  2.93756942,  2.94044859,\n",
       "         2.92679937,  2.89652144,  2.84974371,  2.78684673,  2.7084857 ,\n",
       "         2.61561429,  2.50950911,  2.39179488,  2.26447036,  2.129935  ,\n",
       "         1.99101621,  1.85099748,  1.71364707,  1.58324757,  1.46462599,\n",
       "         1.36318472,  1.28493315,  1.23651994,  1.2252661 ,  1.25919873],\n",
       "       [ 1.85729223,  1.42281939,  1.05007029,  0.74658405,  0.51501952,\n",
       "         0.35419337,  0.25998507,  0.22611999,  0.24484089,  0.30747773,\n",
       "         0.40492521,  0.52803683,  0.66794394,  0.81630753,  0.96551026,\n",
       "         1.10879567,  1.24036107,  1.35541009,  1.45017073,  1.52188395,\n",
       "         1.56876776,  1.5899613 ,  1.58545287,  1.55599581,  1.50301552,\n",
       "         1.4285107 ,  1.3349516 ,  1.22517768,  1.10229683,  0.96958801,\n",
       "         0.830409  ,  0.68811041,  0.5459573 ,  0.40705911,  0.27430857,\n",
       "         0.1503302 ,  0.03743843, -0.06239432, -0.14755989, -0.21682708,\n",
       "        -0.26934512, -0.30463856, -0.32259401, -0.32343962, -0.30771787,\n",
       "        -0.27625278, -0.23011232, -0.17056707, -0.09904604, -0.01709093,\n",
       "         0.07369038,  0.17166991,  0.27524415,  0.3828763 ,  0.49313493,\n",
       "         0.60472841,  0.71653406,  0.82762136,  0.93726843,  1.04497132,\n",
       "         1.15044552,  1.25361945,  1.35461966,  1.45374776,  1.55144919,\n",
       "         1.64827406,  1.74483073,  1.84173265,  1.9395395 ,  2.03869381,\n",
       "         2.13945426,  2.24182767,  2.34550122,  2.44977744,  2.55351421,\n",
       "         2.65507279,  2.75227692,  2.84238644,  2.92208928,  2.98751606,\n",
       "         3.03428169,  3.05755906,  3.05219003,  3.01283958,  2.93419916,\n",
       "         2.81124594,  2.63956494,  2.41574161,  2.13783279,  1.80592455,\n",
       "         1.42278591,  0.99462786,  0.53197774,  0.05067955, -0.42696883,\n",
       "        -0.87092964, -1.24197842, -1.49008344, -1.55259794, -1.35225115]])"
      ]
     },
     "execution_count": 9,
     "metadata": {},
     "output_type": "execute_result"
    }
   ],
   "source": [
    "# 方法一\n",
    "def answer_one0():\n",
    "    from sklearn.linear_model import LinearRegression\n",
    "    from sklearn.preprocessing import PolynomialFeatures\n",
    "    \n",
    "    # Your code here\n",
    "    res = np.zeros((4,100))\n",
    "    \n",
    "    for i, degree in enumerate([1,3,6,9]):\n",
    "        poly = PolynomialFeatures(degree=degree)\n",
    "        X_poly = poly.fit_transform(X_train.reshape(22,1))\n",
    "        linreg = LinearRegression().fit(X_poly, y_train)\n",
    "        y = linreg.predict(poly.fit_transform(np.linspace(0,10,100).reshape(100,1)));\n",
    "        res[i,:] = y\n",
    "    return np.array(res)\n",
    "\n",
    "answer_one0()"
   ]
  },
  {
   "cell_type": "code",
   "execution_count": 7,
   "metadata": {},
   "outputs": [
    {
     "data": {
      "text/plain": [
       "array([[ 0.49947299,  0.51663261,  0.53379223,  0.55095185,  0.56811148,\n",
       "         0.5852711 ,  0.60243072,  0.61959034,  0.63674996,  0.65390958,\n",
       "         0.6710692 ,  0.68822883,  0.70538845,  0.72254807,  0.73970769,\n",
       "         0.75686731,  0.77402693,  0.79118655,  0.80834617,  0.8255058 ,\n",
       "         0.84266542,  0.85982504,  0.87698466,  0.89414428,  0.9113039 ,\n",
       "         0.92846352,  0.94562315,  0.96278277,  0.97994239,  0.99710201,\n",
       "         1.01426163,  1.03142125,  1.04858087,  1.06574049,  1.08290012,\n",
       "         1.10005974,  1.11721936,  1.13437898,  1.1515386 ,  1.16869822,\n",
       "         1.18585784,  1.20301747,  1.22017709,  1.23733671,  1.25449633,\n",
       "         1.27165595,  1.28881557,  1.30597519,  1.32313482,  1.34029444,\n",
       "         1.35745406,  1.37461368,  1.3917733 ,  1.40893292,  1.42609254,\n",
       "         1.44325216,  1.46041179,  1.47757141,  1.49473103,  1.51189065,\n",
       "         1.52905027,  1.54620989,  1.56336951,  1.58052914,  1.59768876,\n",
       "         1.61484838,  1.632008  ,  1.64916762,  1.66632724,  1.68348686,\n",
       "         1.70064648,  1.71780611,  1.73496573,  1.75212535,  1.76928497,\n",
       "         1.78644459,  1.80360421,  1.82076383,  1.83792346,  1.85508308,\n",
       "         1.8722427 ,  1.88940232,  1.90656194,  1.92372156,  1.94088118,\n",
       "         1.9580408 ,  1.97520043,  1.99236005,  2.00951967,  2.02667929,\n",
       "         2.04383891,  2.06099853,  2.07815815,  2.09531778,  2.1124774 ,\n",
       "         2.12963702,  2.14679664,  2.16395626,  2.18111588,  2.1982755 ],\n",
       "       [ 1.51170901,  1.4413091 ,  1.37428932,  1.31059585,  1.25017485,\n",
       "         1.19297248,  1.13893491,  1.08800829,  1.0401388 ,  0.99527259,\n",
       "         0.95335584,  0.9143347 ,  0.87815535,  0.84476393,  0.81410663,\n",
       "         0.7861296 ,  0.760779  ,  0.73800101,  0.71774178,  0.69994748,\n",
       "         0.68456427,  0.67153832,  0.66081579,  0.65234284,  0.64606565,\n",
       "         0.64193037,  0.63988316,  0.6398702 ,  0.64183764,  0.64573165,\n",
       "         0.6514984 ,  0.65908405,  0.66843475,  0.67949669,  0.69221601,\n",
       "         0.70653889,  0.72241148,  0.73977996,  0.75859049,  0.77878923,\n",
       "         0.80032234,  0.82313599,  0.84717635,  0.87238957,  0.89872182,\n",
       "         0.92611927,  0.95452808,  0.98389441,  1.01416443,  1.0452843 ,\n",
       "         1.07720019,  1.10985826,  1.14320467,  1.17718559,  1.21174719,\n",
       "         1.24683562,  1.28239705,  1.31837764,  1.35472357,  1.39138099,\n",
       "         1.42829606,  1.46541496,  1.50268384,  1.54004887,  1.57745621,\n",
       "         1.61485203,  1.6521825 ,  1.68939377,  1.72643201,  1.76324338,\n",
       "         1.79977405,  1.83597019,  1.87177795,  1.9071435 ,  1.942013  ,\n",
       "         1.97633263,  2.01004853,  2.04310689,  2.07545385,  2.10703559,\n",
       "         2.13779827,  2.16768805,  2.1966511 ,  2.22463359,  2.25158166,\n",
       "         2.2774415 ,  2.30215926,  2.32568111,  2.34795321,  2.36892173,\n",
       "         2.38853283,  2.40673267,  2.42346742,  2.43868324,  2.4523263 ,\n",
       "         2.46434276,  2.47467878,  2.48328054,  2.49009419,  2.49506589],\n",
       "       [ 0.76559896,  0.64347011,  0.56881935,  0.53395569,  0.53187029,\n",
       "         0.55620316,  0.60121069,  0.66173379,  0.73316679,  0.81142705,\n",
       "         0.89292527,  0.97453654,  1.05357206,  1.12775162,  1.19517674,\n",
       "         1.25430458,  1.30392252,  1.34312347,  1.37128188,  1.3880305 ,\n",
       "         1.3932378 ,  1.38698614,  1.36955063,  1.34137872,  1.30307049,\n",
       "         1.2553597 ,  1.19909543,  1.13522459,  1.06477504,  0.98883944,\n",
       "         0.90855982,  0.8251129 ,  0.73969605,  0.65351401,  0.56776633,\n",
       "         0.48363548,  0.40227574,  0.32480271,  0.2522836 ,  0.18572826,\n",
       "         0.12608081,  0.07421212,  0.03091287, -0.00311255, -0.02725154,\n",
       "        -0.04098799, -0.04390634, -0.03569486, -0.01614824,  0.01483046,\n",
       "         0.05722873,  0.11092406,  0.17568425,  0.25116837,  0.33692839,\n",
       "         0.43241165,  0.53696389,  0.6498331 ,  0.77017404,  0.89705349,\n",
       "         1.0294562 ,  1.16629155,  1.30640093,  1.44856585,  1.59151672,\n",
       "         1.73394237,  1.87450032,  2.01182766,  2.14455274,  2.27130757,\n",
       "         2.39074081,  2.50153167,  2.60240435,  2.69214327,  2.76960901,\n",
       "         2.83375495,  2.88364465,  2.91846988,  2.93756942,  2.94044859,\n",
       "         2.92679937,  2.89652144,  2.84974371,  2.78684673,  2.7084857 ,\n",
       "         2.61561429,  2.50950911,  2.39179488,  2.26447036,  2.129935  ,\n",
       "         1.99101621,  1.85099748,  1.71364707,  1.58324757,  1.46462599,\n",
       "         1.36318472,  1.28493315,  1.23651994,  1.2252661 ,  1.25919873],\n",
       "       [ 1.85729223,  1.42281939,  1.05007029,  0.74658405,  0.51501952,\n",
       "         0.35419337,  0.25998507,  0.22611999,  0.24484089,  0.30747773,\n",
       "         0.40492521,  0.52803683,  0.66794394,  0.81630753,  0.96551026,\n",
       "         1.10879567,  1.24036107,  1.35541009,  1.45017073,  1.52188395,\n",
       "         1.56876776,  1.5899613 ,  1.58545287,  1.55599581,  1.50301552,\n",
       "         1.4285107 ,  1.3349516 ,  1.22517768,  1.10229683,  0.96958801,\n",
       "         0.830409  ,  0.68811041,  0.5459573 ,  0.40705911,  0.27430857,\n",
       "         0.1503302 ,  0.03743843, -0.06239432, -0.14755989, -0.21682708,\n",
       "        -0.26934512, -0.30463856, -0.32259401, -0.32343962, -0.30771787,\n",
       "        -0.27625278, -0.23011232, -0.17056707, -0.09904604, -0.01709093,\n",
       "         0.07369038,  0.17166991,  0.27524415,  0.3828763 ,  0.49313493,\n",
       "         0.60472841,  0.71653406,  0.82762136,  0.93726843,  1.04497132,\n",
       "         1.15044552,  1.25361945,  1.35461966,  1.45374776,  1.55144919,\n",
       "         1.64827406,  1.74483073,  1.84173265,  1.9395395 ,  2.03869381,\n",
       "         2.13945426,  2.24182767,  2.34550122,  2.44977744,  2.55351421,\n",
       "         2.65507279,  2.75227692,  2.84238644,  2.92208928,  2.98751606,\n",
       "         3.03428169,  3.05755906,  3.05219003,  3.01283958,  2.93419916,\n",
       "         2.81124594,  2.63956494,  2.41574161,  2.13783279,  1.80592455,\n",
       "         1.42278591,  0.99462786,  0.53197774,  0.05067955, -0.42696883,\n",
       "        -0.87092964, -1.24197842, -1.49008344, -1.55259794, -1.35225115]])"
      ]
     },
     "execution_count": 7,
     "metadata": {},
     "output_type": "execute_result"
    }
   ],
   "source": [
    "#方法二\n",
    "def answer_one():\n",
    "    from sklearn.linear_model import LinearRegression\n",
    "    from sklearn.preprocessing import PolynomialFeatures\n",
    "         \n",
    "    # Your code here\n",
    "    degree = [1, 3, 6, 9]\n",
    "    np_value = 100\n",
    "    res = np.zeros([len(degree), np_value])\n",
    "    predict = np.linspace(0, 10, np_value).reshape(-1, 1)\n",
    "    X_tr = X_train.reshape(-1, 1)  \n",
    "    \n",
    "    for i, degree in enumerate(degree):\n",
    "        poly = PolynomialFeatures(degree=degree)\n",
    "        X_ = poly.fit_transform(X_tr)\n",
    "        predict_ = poly.fit_transform(predict)\n",
    "        linreg = LinearRegression()\n",
    "        linreg.fit(X_, y_train)\n",
    "        res[i, :] = linreg.predict(predict_)\n",
    "    \n",
    "    return np.array(res)\n",
    "\n",
    "answer_one()"
   ]
  },
  {
   "cell_type": "code",
   "execution_count": 10,
   "metadata": {
    "colab": {},
    "colab_type": "code",
    "executionInfo": {
     "elapsed": 381,
     "status": "ok",
     "timestamp": 1600144231857,
     "user": {
      "displayName": "Grant Schoenebeck",
      "photoUrl": "",
      "userId": "04620784957482198376"
     },
     "user_tz": 240
    },
    "id": "5X96gn265I7B"
   },
   "outputs": [
    {
     "data": {
      "image/png": "[encoded data removed]",
      "text/plain": [
       "<Figure size 720x360 with 1 Axes>"
      ]
     },
     "metadata": {
      "needs_background": "light"
     },
     "output_type": "display_data"
    }
   ],
   "source": [
    "# feel free to use the function plot_one() to replicate the figure \n",
    "# from the prompt once you have completed question one\n",
    "def plot_one(degree_predictions):\n",
    "    import matplotlib.pyplot as plt\n",
    "    %matplotlib inline\n",
    "    plt.figure(figsize=(10,5))\n",
    "    plt.plot(X_train, y_train, 'o', label='training data', markersize=10)\n",
    "    plt.plot(X_test, y_test, 'o', label='test data', markersize=10)\n",
    "    for i,degree in enumerate([1,3,6,9]):\n",
    "        plt.plot(np.linspace(0,10,100), degree_predictions[i], alpha=0.8, lw=2, label='degree={}'.format(degree))\n",
    "    plt.ylim(-1,3.5)\n",
    "    plt.legend(loc=4)\n",
    "\n",
    "plot_one(answer_one())"
   ]
  },
  {
   "cell_type": "markdown",
   "metadata": {
    "colab_type": "text",
    "id": "0IVe98Cq5I7K"
   },
   "source": [
    "### Question 2 (20 points)\n",
    "\n",
    "Write a function that fits a polynomial LinearRegression model on the training data `X_train` for degrees 0 through 9. For each model compute the $R^2$ (coefficient of determination) regression score on the training data as well as the the test data, and return both of these arrays in a tuple.\n",
    "\n",
    "Based on the $R^2$ scores above (degree levels 0 through 9), what degree level corresponds to a model that is underfitting? What degree level corresponds to a model that is overfitting? What choice of degree level would provide a model with good generalization performance on this dataset? Note: there may be multiple correct solutions to this question.\n",
    "\n",
    "(Hint: you can plot the r2_train and r2_test vs the degree to investigate underfitting/overfitting.)\n",
    "\n",
    "*This function should return one tuple of numpy arrays `(r2_train, r2_test, Underfitting, Good_Generalization, Overfitting)`, where both `r2_train` and `r2_test` should have shape `(10,)`, and `Underfitting, Good_Generalization, Overfitting` should be three lists of int partitioning 0-9.*"
   ]
  },
  {
   "cell_type": "code",
   "execution_count": 89,
   "metadata": {
    "colab": {},
    "colab_type": "code",
    "id": "jcFeV-KF5I7L"
   },
   "outputs": [
    {
     "data": {
      "text/plain": [
       "([0.0,\n",
       "  0.15514354415029286,\n",
       "  0.30116550158794964,\n",
       "  0.3029819976207113,\n",
       "  0.35939823784701974,\n",
       "  0.41325991558424735,\n",
       "  0.4210382007411466,\n",
       "  0.43027673058596627,\n",
       "  0.4485309334854215,\n",
       "  0.44881874114327247],\n",
       " [-0.010053796470642862,\n",
       "  0.03783857335776575,\n",
       "  -0.001764298726620428,\n",
       "  0.009258499715558921,\n",
       "  0.18206459265690889,\n",
       "  0.38656175968315276,\n",
       "  0.4144092871888445,\n",
       "  0.351181904797216,\n",
       "  0.2612624766521242,\n",
       "  0.24989269828256366],\n",
       " 0,\n",
       " 6,\n",
       " 9)"
      ]
     },
     "execution_count": 89,
     "metadata": {},
     "output_type": "execute_result"
    }
   ],
   "source": [
    "# # Peilin Answer\n",
    "# np.random.seed(0)\n",
    "# n = 100\n",
    "# x = np.linspace(0, 10, n) + np.random.randn(n) / 5\n",
    "# y = np.sin(x) + x / 4 + np.random.randn(n) \n",
    "# X_train, X_test, y_train, y_test = train_test_split(x, y, random_state=0)\n",
    "\n",
    "# def answer_two0():\n",
    "#     from sklearn.linear_model import LinearRegression\n",
    "#     from sklearn.preprocessing import PolynomialFeatures\n",
    "\n",
    "#     # Your code here\n",
    "#     r2_train, r2_test= [], []\n",
    "#     for degree in range(10):\n",
    "#         X_train_poly = PolynomialFeatures(degree=degree).fit_transform(X_train.reshape(-1,1))\n",
    "#         X_test_poly = PolynomialFeatures(degree=degree).fit_transform(X_test.reshape(-1,1))\n",
    "#         clf = LinearRegression().fit(X_train_poly,y_train)\n",
    "#         r2_train.append(clf.score(X_train_poly, y_train))\n",
    "#         r2_test.append(clf.score(X_test_poly, y_test))  \n",
    "#     return (r2_train, r2_test)\n",
    "\n",
    "# def answer_two():\n",
    "#     r2_train, r2_test = answer_two0()\n",
    "#     Good_Generalization = list(r2_test).index(max(r2_test))\n",
    "#     Underfitting = list(r2_test).index(min(r2_test[:Good_Generalization]))\n",
    "#     Overfitting = list(r2_test).index(min(r2_test[Good_Generalization:]))   \n",
    "              \n",
    "#     return (r2_train, r2_test, Underfitting, Good_Generalization, Overfitting)\n",
    "# answer_two()"
   ]
  },
  {
   "cell_type": "code",
   "execution_count": 11,
   "metadata": {},
   "outputs": [
    {
     "data": {
      "text/plain": [
       "([0.0,\n",
       "  0.15514354415029286,\n",
       "  0.30116550158794964,\n",
       "  0.3029819976207113,\n",
       "  0.35939823784701974,\n",
       "  0.41325991558424735,\n",
       "  0.4210382007411466,\n",
       "  0.43027673058596627,\n",
       "  0.4485309334854215,\n",
       "  0.44881874114327247],\n",
       " [-0.010053796470642862,\n",
       "  0.03783857335776575,\n",
       "  -0.001764298726620428,\n",
       "  0.009258499715558921,\n",
       "  0.18206459265690889,\n",
       "  0.38656175968315276,\n",
       "  0.4144092871888445,\n",
       "  0.351181904797216,\n",
       "  0.2612624766521242,\n",
       "  0.24989269828256366],\n",
       " [0, 1, 2, 3, 4],\n",
       " [5, 6, 7],\n",
       " [8, 9])"
      ]
     },
     "execution_count": 11,
     "metadata": {},
     "output_type": "execute_result"
    }
   ],
   "source": [
    "np.random.seed(0)\n",
    "n = 100\n",
    "x = np.linspace(0, 10, n) + np.random.randn(n) / 5\n",
    "y = np.sin(x) + x / 4 + np.random.randn(n) \n",
    "X_train, X_test, y_train, y_test = train_test_split(x, y, random_state=0)\n",
    "\n",
    "def answer_two():\n",
    "    from sklearn.linear_model import LinearRegression\n",
    "    from sklearn.preprocessing import PolynomialFeatures\n",
    "\n",
    "    # Your code here\n",
    "    r2_train = []\n",
    "    r2_test = []\n",
    "\n",
    "    for d in range(10):\n",
    "        poly = PolynomialFeatures(degree=d)\n",
    "        X_train_trans = poly.fit_transform(X_train.reshape(-1, 1))\n",
    "        linreg = LinearRegression().fit(X_train_trans, y_train)\n",
    "        X_test_trans = poly.transform(X_test.reshape(-1, 1))\n",
    "        \n",
    "        r2_train.append(linreg.score(X_train_trans, y_train))\n",
    "        r2_test.append(linreg.score(X_test_trans, y_test))\n",
    "    \n",
    "    Underfitting = [0, 1, 2, 3, 4] \n",
    "    Good_Generalization = [5, 6, 7]\n",
    "    Overfitting = [8, 9]\n",
    "    # for good generalization, answers around 6 are correct(eg. [5,6,7], [5,6], [6], [6, 7]), 6 must be included\n",
    "    # you need to classify all degree models for full credit.\n",
    "\n",
    "    return (r2_train, r2_test, Underfitting, Good_Generalization, Overfitting)\n",
    "\n",
    "answer_two()"
   ]
  },
  {
   "cell_type": "markdown",
   "metadata": {
    "colab_type": "text",
    "id": "B_LhuE395I7Q"
   },
   "source": [
    "### Question 3 (10 points)\n",
    "\n",
    "This question asks you to explore the influence of varying the training size proportion on the model's performance. Specifically, we hope you adopt the  train_size parameter in train_test_split function. \n",
    "\n",
    "Please use a for loop to repeat the following steps with `train_size` varying from `[0.1, 0.2, 0.3, 0.4, 0.5, 0.6, 0.7, 0.8, 0.9]`:\n",
    "1. Generate synthetic data `(X_F1, y_F1)` using `make_friedman1` with `n_samples=1000, n_features=5, random_state=0`;\n",
    "2. Apply `train_test_split` to split the generated synthetic data and got your `X_train, X_test, y_train, y_test` correspondingly. Please set `random_state=0` in`train_test_split` function to generate the data. \n",
    "3. Create a `LinearRegression` model\n",
    "4. For each model compute the $R^2$ (coefficient of determination) regression score. \n",
    "\n",
    "Store the $R^2$ of each model in list `r_squared` and return the list. Do you see the $R^2$ increasing or decreasing? And why? \n",
    "\n",
    "*This function should return a list `r_squared`, with length 9.*\n"
   ]
  },
  {
   "cell_type": "code",
   "execution_count": 12,
   "metadata": {
    "colab": {},
    "colab_type": "code",
    "id": "PWhjUbh65I7R",
    "outputId": "392d0bac-e7b7-4aae-8fb0-d3bbdda2a486"
   },
   "outputs": [
    {
     "data": {
      "text/plain": [
       "[0.738413532493281,\n",
       " 0.7392569010143397,\n",
       " 0.7513848505116703,\n",
       " 0.745987907340038,\n",
       " 0.7662066366447913,\n",
       " 0.7760430184222653,\n",
       " 0.7558631122685722,\n",
       " 0.7797378250939617,\n",
       " 0.7922372391817742]"
      ]
     },
     "execution_count": 12,
     "metadata": {},
     "output_type": "execute_result"
    }
   ],
   "source": [
    "def answer_three():\n",
    "    from sklearn.datasets import make_friedman1\n",
    "    from sklearn.linear_model import LinearRegression\n",
    "    from sklearn.model_selection import cross_val_score\n",
    "    from sklearn.model_selection import train_test_split\n",
    "    \n",
    "    r_squared = []\n",
    "    for train_size in [0.1, 0.2, 0.3, 0.4, 0.5, 0.6, 0.7, 0.8, 0.9]:\n",
    "        # Your code here\n",
    "        X_F1, y_F1 = make_friedman1(n_samples=1000, n_features=5, random_state=0)\n",
    "        X_train, X_test, y_train, y_test = train_test_split(X_F1, y_F1, random_state=0, train_size=train_size)\n",
    "        \n",
    "        linreg = LinearRegression().fit(X_train, y_train)\n",
    "        y_pred = linreg.predict(X_test)\n",
    "        #print('R-squared score (test): {:.3f}'.format(linreg.score(X_test, y_test)))\n",
    "        r_squared.append(linreg.score(X_test, y_test))\n",
    "    \n",
    "    return r_squared\n",
    "\n",
    "answer_three()"
   ]
  },
  {
   "cell_type": "markdown",
   "metadata": {
    "colab_type": "text",
    "id": "QngclMpn5I7X"
   },
   "source": [
    "### Question 4 (20 points)\n",
    "\n",
    "This question asks you to compare the Linear Regression model and KNN Regression model. As you know, choosing the k in k-NN Regression model affects the prediction accuracy. In this question, train k-NN classifiers with `k = 1,2,...,5` (similar to HW1 Q5) and report the best performance of KNN Regression and Linear Regression. \n",
    "\n",
    "In this question we will fix the `train_size = 0.8`, you'll need to the following things:\n",
    "1. Generate synthetic data `(X_F1, y_F1)` using `make_friedman1` with `n_samples=10000, n_features=10, random_state=0`;\n",
    "2. Apply `train_test_split` to split the generated synthetic data and got your `X_train, X_test, y_train, y_test` correspondingly.Set `random_state=0` in`train_test_split` function to generate the data. \n",
    "3. Create a `LinearRegression` model and get its performenace.\n",
    "4. Create a `KNeighborsRegressor` model and get the performance when `k = 1,5, 10, 15, 205`\n",
    "5. Return the an array with 6 items: the first being the  `LinearRegression` model's $R^2$ and next 5 the `KNeighborsRegressor` models' $R^2$\n",
    "\n",
    "*This function should return an array with 6 numbers.*\n",
    "\n",
    "Which classifier performed the best?  Using the ideas from class, what could explain these results? "
   ]
  },
  {
   "cell_type": "code",
   "execution_count": 13,
   "metadata": {
    "colab": {},
    "colab_type": "code",
    "id": "0Wlq8cKY5I7Y"
   },
   "outputs": [
    {
     "data": {
      "text/plain": [
       "[0.7430653473594293,\n",
       " 0.667995745956579,\n",
       " 0.8428177919919698,\n",
       " 0.8554736492383892,\n",
       " 0.8536243420979374,\n",
       " 0.7354516334161025]"
      ]
     },
     "execution_count": 13,
     "metadata": {},
     "output_type": "execute_result"
    }
   ],
   "source": [
    "def answer_four():\n",
    "    from sklearn.datasets import make_friedman1\n",
    "    from sklearn.linear_model import LinearRegression\n",
    "    from sklearn.model_selection import cross_val_score\n",
    "    from sklearn.model_selection import train_test_split\n",
    "    from sklearn.neighbors import KNeighborsRegressor\n",
    "    \n",
    "    scores = []\n",
    "    # Your code here\n",
    "    train_size = 0.8\n",
    "    X_F1, y_F1 = make_friedman1(n_samples=10000, n_features=10, random_state=0)\n",
    "    X_train, X_test, y_train, y_test = train_test_split(X_F1, y_F1, random_state=0, train_size=train_size)\n",
    "        \n",
    "    linreg = LinearRegression().fit(X_train, y_train)\n",
    "    y_pred = linreg.predict(X_test)\n",
    "    scores = []\n",
    "    scores.append(linreg.score(X_test, y_test))\n",
    "\n",
    "    \n",
    "\n",
    "    for k in [1, 5, 10, 15, 205]:\n",
    "        knn = KNeighborsRegressor(n_neighbors = k)\n",
    "        knn.fit(X_train, y_train)\n",
    "        scores.append(knn.score(X_test, y_test))\n",
    "        \n",
    "    return scores\n",
    "\n",
    "answer_four()"
   ]
  },
  {
   "cell_type": "markdown",
   "metadata": {
    "colab_type": "text",
    "id": "2heKrGjm5I7e"
   },
   "source": [
    "### Question 5 (20 points)\n",
    "\n",
    "From Question 1 and 2 we have seen that we need to be careful when selecting the `degree` parameter of the polynomial feature expansion. These kind of parameters are ususally called \"hyper-parameters\" in machine learning. In this question, we will see how to make a good choice of the hyper-parameter(s). And when the dataset is small, cross validation can help us make a more reliable choice. \n",
    "\n"
   ]
  },
  {
   "cell_type": "code",
   "execution_count": 14,
   "metadata": {
    "colab": {},
    "colab_type": "code",
    "id": "LRTqgtuf5I7f"
   },
   "outputs": [
    {
     "name": "stdout",
     "output_type": "stream",
     "text": [
      "One split:\tDegree 2, R-squared score 0.751\n",
      "Cross Valid:\tDegree 1, R-squared score 0.528\n"
     ]
    },
    {
     "data": {
      "text/plain": [
       "(2, 0.7508642440832378, 1, 0.527985223041981)"
      ]
     },
     "execution_count": 14,
     "metadata": {},
     "output_type": "execute_result"
    }
   ],
   "source": [
    "def answer_five():\n",
    "    import numpy as np\n",
    "    from sklearn.datasets import make_friedman3\n",
    "    from sklearn.model_selection import train_test_split\n",
    "    from sklearn.linear_model import LinearRegression\n",
    "    from sklearn.preprocessing import PolynomialFeatures\n",
    "    from sklearn.model_selection import cross_val_score\n",
    "\n",
    "    # generate dta\n",
    "    X_F3_train, y_F3_train = make_friedman3(n_samples=100, random_state=0)  # training set\n",
    "    X_F3_test, y_F3_test = make_friedman3(n_samples=500, random_state=1)  # hold-out test set\n",
    "\n",
    "    r2_cv = []\n",
    "    r2_one_split = []\n",
    "    for d in range(1, 6):\n",
    "        \n",
    "        # %%% Your code: transform `X_F3_train` to `X_F3_train_trans` using `PolynomialFeatures` with `degree=d`\n",
    "        poly = PolynomialFeatures(degree=d)\n",
    "        X_F3_train_trans = poly.fit_transform(X_F3_train)\n",
    "        \n",
    "        # train and evaluate with one split\n",
    "        X_train, X_valid, y_train, y_valid = train_test_split(X_F3_train_trans, y_F3_train, random_state=0, test_size=0.1)\n",
    "        linreg = LinearRegression().fit(X_train, y_train)\n",
    "        r2_one_split.append(linreg.score(X_valid, y_valid))\n",
    "\n",
    "        # train and evaluate with cross validation\n",
    "        linreg = LinearRegression()\n",
    "        \n",
    "        # %%% Your code: get `cv_scores` by applying `cross_val_score` on `linreg, X_F3_train_trans, y_F3_train` with `cv=10`\n",
    "        cv_scores = cross_val_score(linreg, X_F3_train_trans, y_F3_train, cv=10)\n",
    "        r2_cv.append(np.mean(cv_scores))\n",
    "\n",
    "    # evalutate on the hold-out test set\n",
    "    d_one_split = np.argmax(r2_one_split)  # get the best degree on the one-split validation set\n",
    "    poly = PolynomialFeatures(degree=d_one_split)\n",
    "    X_F3_train_trans = poly.fit_transform(X_F3_train)\n",
    "    linreg = LinearRegression().fit(X_F3_train_trans, y_F3_train)\n",
    "    X_F3_test_trans = poly.transform(X_F3_test)\n",
    "    score_one_split = linreg.score(X_F3_test_trans, y_F3_test)\n",
    "    print('One split:\\tDegree {}, R-squared score {:.3f}'\n",
    "         .format(d_one_split, linreg.score(X_F3_test_trans, y_F3_test)))\n",
    "\n",
    "    d_cv = np.argmax(r2_cv)  # get the best degree on the cross validation set\n",
    "    poly = PolynomialFeatures(degree=d_cv)\n",
    "    X_F3_train_trans = poly.fit_transform(X_F3_train)\n",
    "    linreg = LinearRegression().fit(X_F3_train_trans, y_F3_train)\n",
    "    X_F3_test_trans = poly.transform(X_F3_test)\n",
    "    score_cv = linreg.score(X_F3_test_trans, y_F3_test)\n",
    "    print('Cross Valid:\\tDegree {}, R-squared score {:.3f}'\n",
    "         .format(d_cv, linreg.score(X_F3_test_trans, y_F3_test)))\n",
    "    \n",
    "    return (d_one_split, score_one_split, d_cv, score_cv)\n",
    "\n",
    "answer_five()"
   ]
  },
  {
   "cell_type": "markdown",
   "metadata": {
    "colab": {},
    "colab_type": "code",
    "id": "hpidq4eP5I7k"
   },
   "source": [
    "### Question 6 (10 points)\n",
    "In class and in the lab, we have studied the polynomial feature expansion. In this question, we hope you to write out the polynomial features after expansion when given different number of features and different degrees. \n",
    "\n",
    "In this question, you need to answer the number of feature after polynomial feature expansion to a train data with 4 features with degree 2. Assumer the original features are [a, b, c, d], please tell us what the features are after polynomial feature expansion (order doesn't matter) and number of features. \n",
    "\n",
    "Bascially, you need to answer with a list containing [a, b, ...] representation the features after expansion and a number denoting the total number of features after expansion. \n",
    "\n",
    "*Note that we hope you calculate this question by hand, not use python*"
   ]
  },
  {
   "cell_type": "code",
   "execution_count": 16,
   "metadata": {},
   "outputs": [
    {
     "data": {
      "text/plain": [
       "array([[ 1., -1.,  2.,  3.,  5.,  1., -2., -3., -5.,  4.,  6., 10.,  9.,\n",
       "        15., 25.]])"
      ]
     },
     "execution_count": 16,
     "metadata": {},
     "output_type": "execute_result"
    }
   ],
   "source": [
    "from sklearn.preprocessing import PolynomialFeatures\n",
    "\n",
    "def answer_six():\n",
    "    X_train = np.array([[-1, 2, 3, 5]])\n",
    "    \n",
    "    poly2 = PolynomialFeatures(degree=2)\n",
    "    X_after2 = poly2.fit_transform(X_train) \n",
    "    \n",
    "    return X_after2\n",
    "\n",
    "answer_six()"
   ]
  }
 ],
 "metadata": {
  "anaconda-cloud": {},
  "colab": {
   "collapsed_sections": [],
   "name": "si670f20_hw_2.ipynb",
   "provenance": []
  },
  "kernelspec": {
   "display_name": "Python 3",
   "language": "python",
   "name": "python3"
  },
  "language_info": {
   "codemirror_mode": {
    "name": "ipython",
    "version": 3
   },
   "file_extension": ".py",
   "mimetype": "text/x-python",
   "name": "python",
   "nbconvert_exporter": "python",
   "pygments_lexer": "ipython3",
   "version": "3.8.3"
  }
 },
 "nbformat": 4,
 "nbformat_minor": 4
}
